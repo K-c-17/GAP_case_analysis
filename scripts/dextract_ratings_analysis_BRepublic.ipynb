{
 "cells": [
  {
   "cell_type": "markdown",
   "id": "92570323",
   "metadata": {},
   "source": [
    "# Rating Distribution Analysis for Banana Republic (on Amazon)"
   ]
  },
  {
   "cell_type": "code",
   "execution_count": 1,
   "id": "e2e88a5d",
   "metadata": {},
   "outputs": [],
   "source": [
    "#importing required packages\n",
    "import requests\n",
    "from bs4 import BeautifulSoup\n",
    "from textblob import TextBlob\n",
    "import pandas as pd\n",
    "import numpy as np\n",
    "import matplotlib.pyplot as plt\n",
    "from selenium import webdriver\n",
    "from selenium.webdriver.common.by import By\n",
    "from selenium.webdriver.chrome.options import Options\n",
    "from selenium.webdriver.support.ui import WebDriverWait\n",
    "from selenium.webdriver.support import expected_conditions as EC\n",
    "import time\n",
    "import random\n",
    "import statsmodels.api as sm\n",
    "from sklearn.model_selection import train_test_split\n",
    "from sklearn.linear_model import LinearRegression\n",
    "from sklearn.metrics import mean_squared_error, r2_score"
   ]
  },
  {
   "cell_type": "code",
   "execution_count": 2,
   "id": "408e2c1c",
   "metadata": {},
   "outputs": [],
   "source": [
    "#intializing the options object to be fed into webdriver parameters\n",
    "chrome_options=Options()\n",
    "#chrome_options.add_argument(\"--headless\")\n",
    "chrome_options.add_argument('--no-sandbox')\n",
    "chrome_options.add_argument('--disable-dev-shm-usage')"
   ]
  },
  {
   "cell_type": "code",
   "execution_count": 3,
   "id": "bbcea333",
   "metadata": {},
   "outputs": [],
   "source": [
    "# Add a custom User-Agent\n",
    "user_agent = \"Mozilla/5.0 (Windows NT 10.0; Win64; x64) AppleWebKit/537.36 (KHTML, like Gecko) Chrome/91.0.4472.124 Safari/537.36\"\n",
    "chrome_options.add_argument(f'user-agent={user_agent}')"
   ]
  },
  {
   "cell_type": "code",
   "execution_count": 4,
   "id": "06ded2d7",
   "metadata": {},
   "outputs": [],
   "source": [
    "'''\n",
    "Adding the property to not let program close the browser window post execution\n",
    "This comes quite handy while visualizing how browser content are changing during \n",
    "execution and what was the last state of browser\n",
    "'''\n",
    "chrome_options.add_experimental_option(\"detach\", True)"
   ]
  },
  {
   "cell_type": "code",
   "execution_count": 5,
   "id": "5f6c8d8d",
   "metadata": {},
   "outputs": [],
   "source": [
    "#starting the chrome driver\n",
    "driver=webdriver.Chrome(options=chrome_options)"
   ]
  },
  {
   "cell_type": "code",
   "execution_count": 6,
   "id": "36ee22d4",
   "metadata": {},
   "outputs": [],
   "source": [
    "#setting up the target website ot be scrapped\n",
    "target='https://www.amazon.com/s?k=banana+republic+clothing&page=2&crid=5GXNBG6XBWK7&qid=1727765297&sprefix=banana+republic+clothing%2Caps%2C218&ref=sr_pg_2'"
   ]
  },
  {
   "cell_type": "code",
   "execution_count": 7,
   "id": "7a074b28",
   "metadata": {},
   "outputs": [],
   "source": [
    "#getting the web page\n",
    "driver.get(target)\n",
    "#waiting for the page to load\n",
    "time.sleep(random.uniform(2, 10))\n",
    "#maximizing the browser window\n",
    "driver.maximize_window()"
   ]
  },
  {
   "cell_type": "code",
   "execution_count": 8,
   "id": "fd4f2c43",
   "metadata": {},
   "outputs": [],
   "source": [
    "# Store product data\n",
    "product_data = {\n",
    "    \"Product Name\": [],\n",
    "    \"Price\": [],\n",
    "    \"Rating\": [],\n",
    "    \"Review Count\": []\n",
    "}"
   ]
  },
  {
   "cell_type": "code",
   "execution_count": 9,
   "id": "82c6956a",
   "metadata": {},
   "outputs": [
    {
     "name": "stdout",
     "output_type": "stream",
     "text": [
      "7\n",
      "No 'Next' button found. Ending the loop.\n"
     ]
    }
   ],
   "source": [
    "page_number=1\n",
    "while page_number<7:\n",
    "    #selecting a product block\n",
    "    products = driver.find_elements(By.XPATH, '//div[contains(@class, \"s-main-slot\")]/div[@data-component-type=\"s-search-result\"]')\n",
    "\n",
    "    # Iterate over the products and extract details\n",
    "    for product in products:\n",
    "        product_name = product.find_element(By.XPATH, './/h2[@class=\"a-size-mini s-line-clamp-1\"]').text\n",
    "        if 'Banana Republic Factory' in product_name or 'Banana Republic' in product_name:\n",
    "            try:\n",
    "                # Product Name\n",
    "                product_name = product.find_element(By.XPATH,'.//span[@class=\"a-size-base-plus a-color-base a-text-normal\"]').text\n",
    "            except:\n",
    "                product_name = 'N/A'\n",
    "\n",
    "            try:\n",
    "                # Price\n",
    "                price = product.find_element(By.XPATH, './/span[@class=\"a-price-whole\"]').text\n",
    "                price_fraction = product.find_element(By.XPATH, './/span[@class=\"a-price-fraction\"]').text\n",
    "                full_price = f\"{price}.{price_fraction}\"\n",
    "            except:\n",
    "                full_price = 'N/A'\n",
    "\n",
    "            try:\n",
    "                # Rating\n",
    "                rating = product.find_element(By.XPATH, './/span[@class=\"a-icon-alt\"]').get_attribute('innerHTML').split()[0]\n",
    "            except:\n",
    "                rating = 'N/A'\n",
    "\n",
    "            try:\n",
    "                # Review Count\n",
    "                review_count = product.find_element(By.XPATH, './/span[@class=\"a-size-base s-underline-text\"]').text\n",
    "            except:\n",
    "                review_count = 'N/A'\n",
    "\n",
    "            # Store the product details in the dictionary\n",
    "            product_data[\"Product Name\"].append(product_name)\n",
    "            product_data[\"Price\"].append(full_price)\n",
    "            product_data[\"Rating\"].append(rating)\n",
    "            product_data[\"Review Count\"].append(review_count)\n",
    "        else:\n",
    "            pass\n",
    "    \n",
    "    try:\n",
    "        #incrementing the page number\n",
    "        page_number+=1\n",
    "        #wait till the next button appears and then locate it\n",
    "        button = WebDriverWait(driver, 10).until(\n",
    "            EC.presence_of_element_located((By.XPATH, '//a[contains(@class, \"s-pagination-next\")]'))\n",
    "        )\n",
    "        # Click the \"Next\" button\n",
    "        button.click()\n",
    "        \n",
    "        #waiting for the page to load\n",
    "        time.sleep(10)\n",
    "    except:\n",
    "        print(page_number)\n",
    "        print(\"No 'Next' button found. Ending the loop.\")\n",
    "        break\n"
   ]
  },
  {
   "cell_type": "code",
   "execution_count": 30,
   "id": "3f8a4e83",
   "metadata": {},
   "outputs": [],
   "source": [
    "df = pd.DataFrame(product_data)"
   ]
  },
  {
   "cell_type": "code",
   "execution_count": 31,
   "id": "66564466",
   "metadata": {},
   "outputs": [
    {
     "data": {
      "text/plain": [
       "(38, 4)"
      ]
     },
     "execution_count": 31,
     "metadata": {},
     "output_type": "execute_result"
    }
   ],
   "source": [
    "df.shape"
   ]
  },
  {
   "cell_type": "code",
   "execution_count": 34,
   "id": "6dd59f49",
   "metadata": {},
   "outputs": [
    {
     "data": {
      "text/plain": [
       "N/A    29\n",
       "5.0     7\n",
       "4.0     1\n",
       "3.0     1\n",
       "Name: Rating, dtype: int64"
      ]
     },
     "execution_count": 34,
     "metadata": {},
     "output_type": "execute_result"
    }
   ],
   "source": [
    "df['Rating'].value_counts()"
   ]
  },
  {
   "cell_type": "code",
   "execution_count": 35,
   "id": "e082bfdf",
   "metadata": {},
   "outputs": [
    {
     "data": {
      "text/plain": [
       "N/A    29\n",
       "1       5\n",
       "2       3\n",
       "3       1\n",
       "Name: Review Count, dtype: int64"
      ]
     },
     "execution_count": 35,
     "metadata": {},
     "output_type": "execute_result"
    }
   ],
   "source": [
    "df['Review Count'].value_counts()"
   ]
  },
  {
   "cell_type": "code",
   "execution_count": 36,
   "id": "3ca4812b",
   "metadata": {},
   "outputs": [],
   "source": [
    "# Replace 'N/A' strings with NaN\n",
    "df['Rating'].replace('N/A', np.nan, inplace=True)\n",
    "df['Review Count'].replace('N/A', np.nan, inplace=True)\n",
    "\n",
    "# Convert 'Rating' and 'Review Count' columns to numeric, forcing non-numeric values to NaN\n",
    "df['Rating'] = pd.to_numeric(df['Rating'], errors='coerce')\n",
    "df['Review Count'] = pd.to_numeric(df['Review Count'], errors='coerce')\n",
    "\n",
    "# Fill missing values in the 'Rating' column with the average (mean) of the ratings\n",
    "df['Rating'].fillna(df['Rating'].mean(), inplace=True)\n",
    "\n",
    "# Fill missing values in the 'Review Count' column with the median of the review counts\n",
    "df['Review Count'].fillna(df['Review Count'].median(), inplace=True)"
   ]
  },
  {
   "cell_type": "code",
   "execution_count": 37,
   "id": "ed909329",
   "metadata": {},
   "outputs": [
    {
     "data": {
      "text/plain": [
       "4.666667    29\n",
       "5.000000     7\n",
       "4.000000     1\n",
       "3.000000     1\n",
       "Name: Rating, dtype: int64"
      ]
     },
     "execution_count": 37,
     "metadata": {},
     "output_type": "execute_result"
    }
   ],
   "source": [
    "df['Rating'].value_counts()"
   ]
  },
  {
   "cell_type": "code",
   "execution_count": 38,
   "id": "980b0df0",
   "metadata": {},
   "outputs": [
    {
     "data": {
      "text/plain": [
       "1.0    34\n",
       "2.0     3\n",
       "3.0     1\n",
       "Name: Review Count, dtype: int64"
      ]
     },
     "execution_count": 38,
     "metadata": {},
     "output_type": "execute_result"
    }
   ],
   "source": [
    "df['Review Count'].value_counts()"
   ]
  },
  {
   "cell_type": "code",
   "execution_count": 39,
   "id": "1c21791c",
   "metadata": {},
   "outputs": [
    {
     "data": {
      "text/plain": [
       "Product Name     object\n",
       "Price            object\n",
       "Rating          float64\n",
       "Review Count    float64\n",
       "dtype: object"
      ]
     },
     "execution_count": 39,
     "metadata": {},
     "output_type": "execute_result"
    }
   ],
   "source": [
    "df.dtypes"
   ]
  },
  {
   "cell_type": "code",
   "execution_count": 40,
   "id": "8675e825",
   "metadata": {},
   "outputs": [
    {
     "data": {
      "text/html": [
       "<div>\n",
       "<style scoped>\n",
       "    .dataframe tbody tr th:only-of-type {\n",
       "        vertical-align: middle;\n",
       "    }\n",
       "\n",
       "    .dataframe tbody tr th {\n",
       "        vertical-align: top;\n",
       "    }\n",
       "\n",
       "    .dataframe thead th {\n",
       "        text-align: right;\n",
       "    }\n",
       "</style>\n",
       "<table border=\"1\" class=\"dataframe\">\n",
       "  <thead>\n",
       "    <tr style=\"text-align: right;\">\n",
       "      <th></th>\n",
       "      <th>Product Name</th>\n",
       "      <th>Price</th>\n",
       "      <th>Rating</th>\n",
       "      <th>Review Count</th>\n",
       "    </tr>\n",
       "  </thead>\n",
       "  <tbody>\n",
       "    <tr>\n",
       "      <th>0</th>\n",
       "      <td>Banana Republic Mens 710638 Standard Fit Luxe ...</td>\n",
       "      <td>38.99</td>\n",
       "      <td>4.666667</td>\n",
       "      <td>1.0</td>\n",
       "    </tr>\n",
       "    <tr>\n",
       "      <th>1</th>\n",
       "      <td>Banana Republic Womens Slim Fit Mid Rise Ryan ...</td>\n",
       "      <td>69.95</td>\n",
       "      <td>5.000000</td>\n",
       "      <td>1.0</td>\n",
       "    </tr>\n",
       "    <tr>\n",
       "      <th>2</th>\n",
       "      <td>Banana Republic Mens Athletic Fit Wrinkle Resi...</td>\n",
       "      <td>69.95</td>\n",
       "      <td>4.666667</td>\n",
       "      <td>1.0</td>\n",
       "    </tr>\n",
       "    <tr>\n",
       "      <th>3</th>\n",
       "      <td>Banana Republic Womens 405131 V-Neck Soft Knit...</td>\n",
       "      <td>49.50</td>\n",
       "      <td>4.666667</td>\n",
       "      <td>1.0</td>\n",
       "    </tr>\n",
       "    <tr>\n",
       "      <th>4</th>\n",
       "      <td>Banana Republic 3-Pack Men's Knit Boxer Briefs...</td>\n",
       "      <td>62.99</td>\n",
       "      <td>4.666667</td>\n",
       "      <td>1.0</td>\n",
       "    </tr>\n",
       "    <tr>\n",
       "      <th>5</th>\n",
       "      <td>Banana Republic Men's 3-Pack Boxer Shorts X-La...</td>\n",
       "      <td>59.99</td>\n",
       "      <td>4.666667</td>\n",
       "      <td>1.0</td>\n",
       "    </tr>\n",
       "    <tr>\n",
       "      <th>6</th>\n",
       "      <td>Banana Republic Mens 710638 Standard Fit Luxe ...</td>\n",
       "      <td>44.99</td>\n",
       "      <td>4.666667</td>\n",
       "      <td>1.0</td>\n",
       "    </tr>\n",
       "    <tr>\n",
       "      <th>7</th>\n",
       "      <td>Banana Republic Mens Standard Fit Luxe Cotton ...</td>\n",
       "      <td>50.00</td>\n",
       "      <td>4.666667</td>\n",
       "      <td>1.0</td>\n",
       "    </tr>\n",
       "    <tr>\n",
       "      <th>8</th>\n",
       "      <td>Banana Republic Men's 3-Pack Boxer Shorts Mens...</td>\n",
       "      <td>59.99</td>\n",
       "      <td>4.000000</td>\n",
       "      <td>1.0</td>\n",
       "    </tr>\n",
       "    <tr>\n",
       "      <th>9</th>\n",
       "      <td>Banana Republic Mens Standard Fit Slub Knit Co...</td>\n",
       "      <td>45.00</td>\n",
       "      <td>4.666667</td>\n",
       "      <td>1.0</td>\n",
       "    </tr>\n",
       "    <tr>\n",
       "      <th>10</th>\n",
       "      <td>Banana Republic Mens Standard Fit Luxe Touch C...</td>\n",
       "      <td>50.00</td>\n",
       "      <td>4.666667</td>\n",
       "      <td>1.0</td>\n",
       "    </tr>\n",
       "    <tr>\n",
       "      <th>11</th>\n",
       "      <td>Banana Republic Mens Drawstring Waist Cotton S...</td>\n",
       "      <td>44.50</td>\n",
       "      <td>4.666667</td>\n",
       "      <td>1.0</td>\n",
       "    </tr>\n",
       "    <tr>\n",
       "      <th>12</th>\n",
       "      <td>Banana Republic Underwear Men's 3-Pack Boxer S...</td>\n",
       "      <td>59.99</td>\n",
       "      <td>4.666667</td>\n",
       "      <td>1.0</td>\n",
       "    </tr>\n",
       "    <tr>\n",
       "      <th>13</th>\n",
       "      <td>Banana Republic Mens 3 Pack Set Boxer Briefs M...</td>\n",
       "      <td>62.99</td>\n",
       "      <td>4.666667</td>\n",
       "      <td>1.0</td>\n",
       "    </tr>\n",
       "    <tr>\n",
       "      <th>14</th>\n",
       "      <td>Banana Republic Mens 710638 Standard Fit Luxe ...</td>\n",
       "      <td>N/A</td>\n",
       "      <td>4.666667</td>\n",
       "      <td>1.0</td>\n",
       "    </tr>\n",
       "    <tr>\n",
       "      <th>15</th>\n",
       "      <td>Banana Republic Mens Chambray Cotton 8\" Casual...</td>\n",
       "      <td>42.95</td>\n",
       "      <td>5.000000</td>\n",
       "      <td>1.0</td>\n",
       "    </tr>\n",
       "    <tr>\n",
       "      <th>16</th>\n",
       "      <td>Banana Republic Womens Avery Curvy Fit Straigh...</td>\n",
       "      <td>69.95</td>\n",
       "      <td>5.000000</td>\n",
       "      <td>2.0</td>\n",
       "    </tr>\n",
       "    <tr>\n",
       "      <th>17</th>\n",
       "      <td>Banana Republic 3-Pack Men's Boxer Briefs XL X...</td>\n",
       "      <td>59.99</td>\n",
       "      <td>4.666667</td>\n",
       "      <td>1.0</td>\n",
       "    </tr>\n",
       "    <tr>\n",
       "      <th>18</th>\n",
       "      <td>Banana Republic Womens Tailored Fit Button Dow...</td>\n",
       "      <td>49.50</td>\n",
       "      <td>4.666667</td>\n",
       "      <td>1.0</td>\n",
       "    </tr>\n",
       "    <tr>\n",
       "      <th>19</th>\n",
       "      <td>Banana Republic Mens 793778 Slim Fit Untucked ...</td>\n",
       "      <td>49.50</td>\n",
       "      <td>4.666667</td>\n",
       "      <td>1.0</td>\n",
       "    </tr>\n",
       "    <tr>\n",
       "      <th>20</th>\n",
       "      <td>Banana Republic 604149 Mens Soft Vegan Leather...</td>\n",
       "      <td>48.95</td>\n",
       "      <td>4.666667</td>\n",
       "      <td>1.0</td>\n",
       "    </tr>\n",
       "    <tr>\n",
       "      <th>21</th>\n",
       "      <td>Banana Republic Men's 3 Pack Set Boxer Briefs ...</td>\n",
       "      <td>55.99</td>\n",
       "      <td>5.000000</td>\n",
       "      <td>2.0</td>\n",
       "    </tr>\n",
       "    <tr>\n",
       "      <th>22</th>\n",
       "      <td>Banana Republic 3-Pairs Men's Knit Boxer Brief...</td>\n",
       "      <td>57.59</td>\n",
       "      <td>5.000000</td>\n",
       "      <td>1.0</td>\n",
       "    </tr>\n",
       "    <tr>\n",
       "      <th>23</th>\n",
       "      <td>Banana Republic Mens 451077 Standard Fit Three...</td>\n",
       "      <td>44.50</td>\n",
       "      <td>4.666667</td>\n",
       "      <td>1.0</td>\n",
       "    </tr>\n",
       "    <tr>\n",
       "      <th>24</th>\n",
       "      <td>Banana Republic Mens Slim Fit All Cotton Non I...</td>\n",
       "      <td>69.95</td>\n",
       "      <td>4.666667</td>\n",
       "      <td>1.0</td>\n",
       "    </tr>\n",
       "    <tr>\n",
       "      <th>25</th>\n",
       "      <td>Banana Republic Womens 810513 High Rise Sloan ...</td>\n",
       "      <td>69.50</td>\n",
       "      <td>4.666667</td>\n",
       "      <td>1.0</td>\n",
       "    </tr>\n",
       "    <tr>\n",
       "      <th>26</th>\n",
       "      <td>Banana Republic Men's 3-Pack Boxer Shorts Mens...</td>\n",
       "      <td>54.65</td>\n",
       "      <td>4.666667</td>\n",
       "      <td>1.0</td>\n",
       "    </tr>\n",
       "    <tr>\n",
       "      <th>27</th>\n",
       "      <td>Banana Republic Mens 710638 Standard Fit Luxe ...</td>\n",
       "      <td>44.50</td>\n",
       "      <td>4.666667</td>\n",
       "      <td>1.0</td>\n",
       "    </tr>\n",
       "    <tr>\n",
       "      <th>28</th>\n",
       "      <td>Banana Republic Mens 100% Cotton Elastic Waist...</td>\n",
       "      <td>59.50</td>\n",
       "      <td>4.666667</td>\n",
       "      <td>1.0</td>\n",
       "    </tr>\n",
       "    <tr>\n",
       "      <th>29</th>\n",
       "      <td>Banana Republic 3-Pack Men's Knit Boxer Briefs...</td>\n",
       "      <td>56.99</td>\n",
       "      <td>5.000000</td>\n",
       "      <td>3.0</td>\n",
       "    </tr>\n",
       "    <tr>\n",
       "      <th>30</th>\n",
       "      <td>Banana Republic Mens 529177 Cotton 9\" Lived in...</td>\n",
       "      <td>44.95</td>\n",
       "      <td>4.666667</td>\n",
       "      <td>1.0</td>\n",
       "    </tr>\n",
       "    <tr>\n",
       "      <th>31</th>\n",
       "      <td>Banana Republic Mens 529177 Cotton 9\" Lived in...</td>\n",
       "      <td>44.95</td>\n",
       "      <td>4.666667</td>\n",
       "      <td>1.0</td>\n",
       "    </tr>\n",
       "    <tr>\n",
       "      <th>32</th>\n",
       "      <td>Banana Republic Mens 529177 Cotton 9\" Lived in...</td>\n",
       "      <td>44.95</td>\n",
       "      <td>4.666667</td>\n",
       "      <td>1.0</td>\n",
       "    </tr>\n",
       "    <tr>\n",
       "      <th>33</th>\n",
       "      <td>Banana Republic Mens 529177 Cotton 9\" Lived in...</td>\n",
       "      <td>44.95</td>\n",
       "      <td>4.666667</td>\n",
       "      <td>1.0</td>\n",
       "    </tr>\n",
       "    <tr>\n",
       "      <th>34</th>\n",
       "      <td>Banana Republic Mens 529177 Cotton 9\" Lived in...</td>\n",
       "      <td>44.95</td>\n",
       "      <td>4.666667</td>\n",
       "      <td>1.0</td>\n",
       "    </tr>\n",
       "    <tr>\n",
       "      <th>35</th>\n",
       "      <td>Banana Republic Mens 529250 Cotton 7\" Lived in...</td>\n",
       "      <td>54.96</td>\n",
       "      <td>4.666667</td>\n",
       "      <td>1.0</td>\n",
       "    </tr>\n",
       "    <tr>\n",
       "      <th>36</th>\n",
       "      <td>Banana Republic Mens 841122 Monogram Logo Cott...</td>\n",
       "      <td>49.95</td>\n",
       "      <td>5.000000</td>\n",
       "      <td>1.0</td>\n",
       "    </tr>\n",
       "    <tr>\n",
       "      <th>37</th>\n",
       "      <td>Banana Republic Mens Slim Fit Pique Mesh All C...</td>\n",
       "      <td>44.95</td>\n",
       "      <td>3.000000</td>\n",
       "      <td>2.0</td>\n",
       "    </tr>\n",
       "  </tbody>\n",
       "</table>\n",
       "</div>"
      ],
      "text/plain": [
       "                                         Product Name  Price    Rating  \\\n",
       "0   Banana Republic Mens 710638 Standard Fit Luxe ...  38.99  4.666667   \n",
       "1   Banana Republic Womens Slim Fit Mid Rise Ryan ...  69.95  5.000000   \n",
       "2   Banana Republic Mens Athletic Fit Wrinkle Resi...  69.95  4.666667   \n",
       "3   Banana Republic Womens 405131 V-Neck Soft Knit...  49.50  4.666667   \n",
       "4   Banana Republic 3-Pack Men's Knit Boxer Briefs...  62.99  4.666667   \n",
       "5   Banana Republic Men's 3-Pack Boxer Shorts X-La...  59.99  4.666667   \n",
       "6   Banana Republic Mens 710638 Standard Fit Luxe ...  44.99  4.666667   \n",
       "7   Banana Republic Mens Standard Fit Luxe Cotton ...  50.00  4.666667   \n",
       "8   Banana Republic Men's 3-Pack Boxer Shorts Mens...  59.99  4.000000   \n",
       "9   Banana Republic Mens Standard Fit Slub Knit Co...  45.00  4.666667   \n",
       "10  Banana Republic Mens Standard Fit Luxe Touch C...  50.00  4.666667   \n",
       "11  Banana Republic Mens Drawstring Waist Cotton S...  44.50  4.666667   \n",
       "12  Banana Republic Underwear Men's 3-Pack Boxer S...  59.99  4.666667   \n",
       "13  Banana Republic Mens 3 Pack Set Boxer Briefs M...  62.99  4.666667   \n",
       "14  Banana Republic Mens 710638 Standard Fit Luxe ...    N/A  4.666667   \n",
       "15  Banana Republic Mens Chambray Cotton 8\" Casual...  42.95  5.000000   \n",
       "16  Banana Republic Womens Avery Curvy Fit Straigh...  69.95  5.000000   \n",
       "17  Banana Republic 3-Pack Men's Boxer Briefs XL X...  59.99  4.666667   \n",
       "18  Banana Republic Womens Tailored Fit Button Dow...  49.50  4.666667   \n",
       "19  Banana Republic Mens 793778 Slim Fit Untucked ...  49.50  4.666667   \n",
       "20  Banana Republic 604149 Mens Soft Vegan Leather...  48.95  4.666667   \n",
       "21  Banana Republic Men's 3 Pack Set Boxer Briefs ...  55.99  5.000000   \n",
       "22  Banana Republic 3-Pairs Men's Knit Boxer Brief...  57.59  5.000000   \n",
       "23  Banana Republic Mens 451077 Standard Fit Three...  44.50  4.666667   \n",
       "24  Banana Republic Mens Slim Fit All Cotton Non I...  69.95  4.666667   \n",
       "25  Banana Republic Womens 810513 High Rise Sloan ...  69.50  4.666667   \n",
       "26  Banana Republic Men's 3-Pack Boxer Shorts Mens...  54.65  4.666667   \n",
       "27  Banana Republic Mens 710638 Standard Fit Luxe ...  44.50  4.666667   \n",
       "28  Banana Republic Mens 100% Cotton Elastic Waist...  59.50  4.666667   \n",
       "29  Banana Republic 3-Pack Men's Knit Boxer Briefs...  56.99  5.000000   \n",
       "30  Banana Republic Mens 529177 Cotton 9\" Lived in...  44.95  4.666667   \n",
       "31  Banana Republic Mens 529177 Cotton 9\" Lived in...  44.95  4.666667   \n",
       "32  Banana Republic Mens 529177 Cotton 9\" Lived in...  44.95  4.666667   \n",
       "33  Banana Republic Mens 529177 Cotton 9\" Lived in...  44.95  4.666667   \n",
       "34  Banana Republic Mens 529177 Cotton 9\" Lived in...  44.95  4.666667   \n",
       "35  Banana Republic Mens 529250 Cotton 7\" Lived in...  54.96  4.666667   \n",
       "36  Banana Republic Mens 841122 Monogram Logo Cott...  49.95  5.000000   \n",
       "37  Banana Republic Mens Slim Fit Pique Mesh All C...  44.95  3.000000   \n",
       "\n",
       "    Review Count  \n",
       "0            1.0  \n",
       "1            1.0  \n",
       "2            1.0  \n",
       "3            1.0  \n",
       "4            1.0  \n",
       "5            1.0  \n",
       "6            1.0  \n",
       "7            1.0  \n",
       "8            1.0  \n",
       "9            1.0  \n",
       "10           1.0  \n",
       "11           1.0  \n",
       "12           1.0  \n",
       "13           1.0  \n",
       "14           1.0  \n",
       "15           1.0  \n",
       "16           2.0  \n",
       "17           1.0  \n",
       "18           1.0  \n",
       "19           1.0  \n",
       "20           1.0  \n",
       "21           2.0  \n",
       "22           1.0  \n",
       "23           1.0  \n",
       "24           1.0  \n",
       "25           1.0  \n",
       "26           1.0  \n",
       "27           1.0  \n",
       "28           1.0  \n",
       "29           3.0  \n",
       "30           1.0  \n",
       "31           1.0  \n",
       "32           1.0  \n",
       "33           1.0  \n",
       "34           1.0  \n",
       "35           1.0  \n",
       "36           1.0  \n",
       "37           2.0  "
      ]
     },
     "execution_count": 40,
     "metadata": {},
     "output_type": "execute_result"
    }
   ],
   "source": [
    "df.head(100)"
   ]
  },
  {
   "cell_type": "markdown",
   "id": "1e43ebaa",
   "metadata": {},
   "source": [
    "## Plot for Top 10 Most Popular Items based on Review Count"
   ]
  },
  {
   "cell_type": "code",
   "execution_count": 41,
   "id": "23d81ff5",
   "metadata": {},
   "outputs": [
    {
     "data": {
      "image/png": "[encoded data removed]",
      "text/plain": [
       "<Figure size 1200x1000 with 1 Axes>"
      ]
     },
     "metadata": {},
     "output_type": "display_data"
    }
   ],
   "source": [
    "#visualization 1\n",
    "#filtering by top review counts\n",
    "top_popular_items = df.nlargest(10, 'Review Count')\n",
    "\n",
    "plt.figure(figsize=(12, 10))\n",
    "plt.barh(top_popular_items['Product Name'], top_popular_items['Review Count'], color='skyblue')\n",
    "plt.xlabel('Number of Reviews')\n",
    "plt.title('Top 10 Most Popular Banana Republic Items')\n",
    "plt.gca().invert_yaxis()  # Invert y-axis to show the most popular items on top\n",
    "plt.show()"
   ]
  },
  {
   "cell_type": "markdown",
   "id": "adb5a198",
   "metadata": {},
   "source": [
    "##  Distribution of Ratings"
   ]
  },
  {
   "cell_type": "code",
   "execution_count": 42,
   "id": "4514d828",
   "metadata": {},
   "outputs": [
    {
     "data": {
      "image/png": "[encoded data removed]",
      "text/plain": [
       "<Figure size 800x500 with 1 Axes>"
      ]
     },
     "metadata": {},
     "output_type": "display_data"
    }
   ],
   "source": [
    "#visualization 2\n",
    "plt.figure(figsize=(8, 5))\n",
    "plt.hist(df['Rating'].dropna(), bins=10, color='orange', edgecolor='black')\n",
    "plt.xlabel('Ratings')\n",
    "plt.ylabel('Frequency')\n",
    "plt.title('Distribution of Product Ratings')\n",
    "plt.show()"
   ]
  },
  {
   "cell_type": "markdown",
   "id": "46109c31",
   "metadata": {},
   "source": [
    "## Items with Lowest Ratings (Badly Reviewed)"
   ]
  },
  {
   "cell_type": "code",
   "execution_count": 43,
   "id": "dacd5aa2",
   "metadata": {},
   "outputs": [
    {
     "data": {
      "image/png": "[encoded data removed]",
      "text/plain": [
       "<Figure size 1000x600 with 1 Axes>"
      ]
     },
     "metadata": {},
     "output_type": "display_data"
    }
   ],
   "source": [
    "#visualization 3\n",
    "# Assuming items with ratings below 4.0 are considered badly reviewed\n",
    "badly_reviewed_items = df[df['Rating'] < 4.0]\n",
    "\n",
    "plt.figure(figsize=(10, 6))\n",
    "plt.barh(badly_reviewed_items['Product Name'], badly_reviewed_items['Rating'], color='red')\n",
    "plt.xlabel('Rating')\n",
    "plt.title('Products with the Lowest Ratings (Badly Reviewed)')\n",
    "plt.gca().invert_yaxis()  # Invert y-axis to show the lowest ratings on top\n",
    "plt.show()"
   ]
  },
  {
   "cell_type": "markdown",
   "id": "0fdab8f3",
   "metadata": {},
   "source": [
    "## Elasticity Analysis (Review Count v/s Price, Ratings & Price v/s Ratings)"
   ]
  },
  {
   "cell_type": "code",
   "execution_count": 44,
   "id": "e9d330e2",
   "metadata": {},
   "outputs": [
    {
     "data": {
      "text/plain": [
       "Product Name     object\n",
       "Price            object\n",
       "Rating          float64\n",
       "Review Count    float64\n",
       "dtype: object"
      ]
     },
     "execution_count": 44,
     "metadata": {},
     "output_type": "execute_result"
    }
   ],
   "source": [
    "df.dtypes"
   ]
  },
  {
   "cell_type": "code",
   "execution_count": 45,
   "id": "e6fae382",
   "metadata": {},
   "outputs": [],
   "source": [
    "#changing the datatype of Price to float\n",
    "df['Price'] = pd.to_numeric(df['Price'], errors='coerce')\n",
    "\n",
    "# Data Cleaning - drop rows with missing values in relevant columns\n",
    "df = df.dropna(subset=['Price', 'Review Count', 'Rating'])\n",
    "\n",
    "#Log transformation for elasticity analysis\n",
    "df['log_price'] = np.log(df['Price'])\n",
    "df['log_review_count'] = np.log(df['Review Count'] + 1)  # Adding 1 to avoid log(0)\n",
    "df['log_ratings'] = np.log(df['Rating'] + 1) # Adding 1 to avoid log(0)"
   ]
  },
  {
   "cell_type": "code",
   "execution_count": 46,
   "id": "c0ff7f8c",
   "metadata": {},
   "outputs": [
    {
     "data": {
      "text/html": [
       "<div>\n",
       "<style scoped>\n",
       "    .dataframe tbody tr th:only-of-type {\n",
       "        vertical-align: middle;\n",
       "    }\n",
       "\n",
       "    .dataframe tbody tr th {\n",
       "        vertical-align: top;\n",
       "    }\n",
       "\n",
       "    .dataframe thead th {\n",
       "        text-align: right;\n",
       "    }\n",
       "</style>\n",
       "<table border=\"1\" class=\"dataframe\">\n",
       "  <thead>\n",
       "    <tr style=\"text-align: right;\">\n",
       "      <th></th>\n",
       "      <th>Product Name</th>\n",
       "      <th>Price</th>\n",
       "      <th>Rating</th>\n",
       "      <th>Review Count</th>\n",
       "      <th>log_price</th>\n",
       "      <th>log_review_count</th>\n",
       "      <th>log_ratings</th>\n",
       "    </tr>\n",
       "  </thead>\n",
       "  <tbody>\n",
       "    <tr>\n",
       "      <th>0</th>\n",
       "      <td>Banana Republic Mens 710638 Standard Fit Luxe ...</td>\n",
       "      <td>38.99</td>\n",
       "      <td>4.666667</td>\n",
       "      <td>1.0</td>\n",
       "      <td>3.663305</td>\n",
       "      <td>0.693147</td>\n",
       "      <td>1.734601</td>\n",
       "    </tr>\n",
       "    <tr>\n",
       "      <th>1</th>\n",
       "      <td>Banana Republic Womens Slim Fit Mid Rise Ryan ...</td>\n",
       "      <td>69.95</td>\n",
       "      <td>5.000000</td>\n",
       "      <td>1.0</td>\n",
       "      <td>4.247781</td>\n",
       "      <td>0.693147</td>\n",
       "      <td>1.791759</td>\n",
       "    </tr>\n",
       "    <tr>\n",
       "      <th>2</th>\n",
       "      <td>Banana Republic Mens Athletic Fit Wrinkle Resi...</td>\n",
       "      <td>69.95</td>\n",
       "      <td>4.666667</td>\n",
       "      <td>1.0</td>\n",
       "      <td>4.247781</td>\n",
       "      <td>0.693147</td>\n",
       "      <td>1.734601</td>\n",
       "    </tr>\n",
       "    <tr>\n",
       "      <th>3</th>\n",
       "      <td>Banana Republic Womens 405131 V-Neck Soft Knit...</td>\n",
       "      <td>49.50</td>\n",
       "      <td>4.666667</td>\n",
       "      <td>1.0</td>\n",
       "      <td>3.901973</td>\n",
       "      <td>0.693147</td>\n",
       "      <td>1.734601</td>\n",
       "    </tr>\n",
       "    <tr>\n",
       "      <th>4</th>\n",
       "      <td>Banana Republic 3-Pack Men's Knit Boxer Briefs...</td>\n",
       "      <td>62.99</td>\n",
       "      <td>4.666667</td>\n",
       "      <td>1.0</td>\n",
       "      <td>4.142976</td>\n",
       "      <td>0.693147</td>\n",
       "      <td>1.734601</td>\n",
       "    </tr>\n",
       "  </tbody>\n",
       "</table>\n",
       "</div>"
      ],
      "text/plain": [
       "                                        Product Name  Price    Rating  \\\n",
       "0  Banana Republic Mens 710638 Standard Fit Luxe ...  38.99  4.666667   \n",
       "1  Banana Republic Womens Slim Fit Mid Rise Ryan ...  69.95  5.000000   \n",
       "2  Banana Republic Mens Athletic Fit Wrinkle Resi...  69.95  4.666667   \n",
       "3  Banana Republic Womens 405131 V-Neck Soft Knit...  49.50  4.666667   \n",
       "4  Banana Republic 3-Pack Men's Knit Boxer Briefs...  62.99  4.666667   \n",
       "\n",
       "   Review Count  log_price  log_review_count  log_ratings  \n",
       "0           1.0   3.663305          0.693147     1.734601  \n",
       "1           1.0   4.247781          0.693147     1.791759  \n",
       "2           1.0   4.247781          0.693147     1.734601  \n",
       "3           1.0   3.901973          0.693147     1.734601  \n",
       "4           1.0   4.142976          0.693147     1.734601  "
      ]
     },
     "execution_count": 46,
     "metadata": {},
     "output_type": "execute_result"
    }
   ],
   "source": [
    "df.head()"
   ]
  },
  {
   "cell_type": "code",
   "execution_count": 47,
   "id": "f611b8fc",
   "metadata": {},
   "outputs": [
    {
     "name": "stdout",
     "output_type": "stream",
     "text": [
      "log_review_count    0\n",
      "log_ratings         0\n",
      "log_price           0\n",
      "dtype: int64\n"
     ]
    }
   ],
   "source": [
    "#checking is any column is having NA values before feeding the data into a regression model\n",
    "print(df[['log_review_count', 'log_ratings', 'log_price']].isna().sum())"
   ]
  },
  {
   "cell_type": "code",
   "execution_count": 48,
   "id": "faf8c9b9",
   "metadata": {},
   "outputs": [
    {
     "name": "stdout",
     "output_type": "stream",
     "text": [
      "Model 1: Review Count vs Price and Ratings\n",
      "                            OLS Regression Results                            \n",
      "==============================================================================\n",
      "Dep. Variable:       log_review_count   R-squared:                       0.046\n",
      "Model:                            OLS   Adj. R-squared:                 -0.010\n",
      "Method:                 Least Squares   F-statistic:                    0.8133\n",
      "Date:                Tue, 01 Oct 2024   Prob (F-statistic):              0.452\n",
      "Time:                        03:18:21   Log-Likelihood:                 17.634\n",
      "No. Observations:                  37   AIC:                            -29.27\n",
      "Df Residuals:                      34   BIC:                            -24.43\n",
      "Df Model:                           2                                         \n",
      "Covariance Type:            nonrobust                                         \n",
      "===============================================================================\n",
      "                  coef    std err          t      P>|t|      [0.025      0.975]\n",
      "-------------------------------------------------------------------------------\n",
      "const           0.8076      0.849      0.951      0.348      -0.917       2.533\n",
      "log_price       0.1545      0.158      0.975      0.336      -0.167       0.476\n",
      "log_ratings    -0.3898      0.398     -0.979      0.335      -1.199       0.420\n",
      "==============================================================================\n",
      "Omnibus:                       45.257   Durbin-Watson:                   2.043\n",
      "Prob(Omnibus):                  0.000   Jarque-Bera (JB):              164.308\n",
      "Skew:                           2.956   Prob(JB):                     2.09e-36\n",
      "Kurtosis:                      11.463   Cond. No.                         155.\n",
      "==============================================================================\n",
      "\n",
      "Notes:\n",
      "[1] Standard Errors assume that the covariance matrix of the errors is correctly specified.\n"
     ]
    }
   ],
   "source": [
    "#Regression Model 1 - Review Count vs. Price and Ratings\n",
    "X1 = df[['log_price', 'log_ratings']]\n",
    "y1 = df['log_review_count']\n",
    "\n",
    "# Add constant (intercept) to the model\n",
    "X1 = sm.add_constant(X1)\n",
    "\n",
    "# Fit the regression model\n",
    "model1 = sm.OLS(y1, X1).fit()\n",
    "\n",
    "# Print the summary of the regression model\n",
    "print(\"Model 1: Review Count vs Price and Ratings\")\n",
    "print(model1.summary())"
   ]
  },
  {
   "cell_type": "markdown",
   "id": "01f4a070",
   "metadata": {},
   "source": [
    "### Insights from the Regression Analysis for Elasticity\n",
    "\n",
    "From the regression analysis output provided, we can derive insights into the elasticity of the `log_review_count` (dependent variable) with respect to the independent variables `log_price` and `log_ratings`. Elasticity in regression analysis, especially in a log-log model, represents the percentage change in the dependent variable for a 1% change in the independent variable.\n",
    "\n",
    "### 1. **Understanding Coefficients:**\n",
    "   - **`log_price` Coefficient:** The coefficient is 0.1545. In a log-log model, this implies that a 1% increase in the price (`log_price`) is associated with an approximate 0.1545% increase in the review count (`log_review_count`). However, given the p-value (0.336), this relationship is not statistically significant.\n",
    "   - **`log_ratings` Coefficient:** The coefficient is -0.3898. This suggests that a 1% increase in the ratings (`log_ratings`) is associated with an approximate 0.3898% decrease in the review count (`log_review_count`). Similarly, the p-value (0.420) indicates that this relationship is also not statistically significant.\n",
    "\n",
    "### 2. **Statistical Significance:**\n",
    "   - Both `log_price` and `log_ratings` have high p-values (greater than 0.05), indicating that there is no statistically significant evidence to suggest that these variables affect the review count in this model.\n",
    "   - The adjusted R-squared value is -0.010, which suggests that the model does not explain much of the variability in the review count. A negative adjusted R-squared value typically implies that the model is performing worse than a simple mean-based model.\n",
    "\n",
    "### 3. **Elasticity Interpretation:**\n",
    "   - **Price Elasticity:** Since the coefficient for `log_price` (0.1545) is positive, there is a small positive elasticity between price and review count. In economic terms, this might indicate that as the price increases, there is a slight increase in the number of reviews. However, this effect is not statistically significant, so this relationship is not reliable based on the data provided.\n",
    "   - **Ratings Elasticity:** The coefficient for `log_ratings` (-0.3898) indicates a negative elasticity. This suggests that an increase in the product rating is associated with a decrease in the review count. However, the statistical insignificance (p-value = 0.420) means we cannot confidently conclude this relationship.\n",
    "\n",
    "### 4. **Model Fit and Diagnostics:**\n",
    "   - The R-squared value (0.046) and the adjusted R-squared value (-0.010) indicate that the model does not fit the data well. Only 4.6% of the variation in the `log_review_count` is explained by the independent variables (`log_price` and `log_ratings`).\n",
    "   - The F-statistic's p-value (0.452) further confirms that the model as a whole is not statistically significant.\n",
    "\n",
    "### 5. **Conclusion:**\n",
    "   - **Elasticity Analysis:** The coefficients for both `log_price` and `log_ratings` suggest small elasticity effects, but the high p-values indicate that these effects are not statistically significant. Thus, there is no strong evidence from this regression analysis to suggest a reliable relationship between the review count and either price or ratings.\n",
    "   - **Model Performance:** The model does not appear to capture the variability in the review count effectively. This could be due to omitted variables, non-linearity, or simply a weak relationship between the variables considered.\n",
    "\n",
    "### Recommendations:\n",
    "   - Consider collecting more data or including other variables that might have a more substantial impact on the review count.\n",
    "   - Explore different model specifications, transformations, or non-linear models if the relationships between variables are not linear."
   ]
  },
  {
   "cell_type": "code",
   "execution_count": 49,
   "id": "ee3ea6f7",
   "metadata": {
    "scrolled": true
   },
   "outputs": [
    {
     "name": "stdout",
     "output_type": "stream",
     "text": [
      "Model 2: Price vs Ratings\n",
      "                            OLS Regression Results                            \n",
      "==============================================================================\n",
      "Dep. Variable:              log_price   R-squared:                       0.030\n",
      "Model:                            OLS   Adj. R-squared:                  0.003\n",
      "Method:                 Least Squares   F-statistic:                     1.091\n",
      "Date:                Tue, 01 Oct 2024   Prob (F-statistic):              0.303\n",
      "Time:                        03:18:26   Log-Likelihood:                 14.696\n",
      "No. Observations:                  37   AIC:                            -25.39\n",
      "Df Residuals:                      35   BIC:                            -22.17\n",
      "Df Model:                           1                                         \n",
      "Covariance Type:            nonrobust                                         \n",
      "===============================================================================\n",
      "                  coef    std err          t      P>|t|      [0.025      0.975]\n",
      "-------------------------------------------------------------------------------\n",
      "const           3.2073      0.726      4.420      0.000       1.734       4.680\n",
      "log_ratings     0.4372      0.418      1.045      0.303      -0.412       1.287\n",
      "==============================================================================\n",
      "Omnibus:                        5.168   Durbin-Watson:                   1.942\n",
      "Prob(Omnibus):                  0.075   Jarque-Bera (JB):                2.193\n",
      "Skew:                           0.254   Prob(JB):                        0.334\n",
      "Kurtosis:                       1.921   Cond. No.                         61.0\n",
      "==============================================================================\n",
      "\n",
      "Notes:\n",
      "[1] Standard Errors assume that the covariance matrix of the errors is correctly specified.\n"
     ]
    }
   ],
   "source": [
    "#Regression Model 2 - Price vs. Ratings only\n",
    "X2 = df[['log_ratings']]\n",
    "y2 = df['log_price']\n",
    "\n",
    "# Add constant (intercept) to the model\n",
    "X2 = sm.add_constant(X2)\n",
    "\n",
    "# Fit the regression model\n",
    "model2 = sm.OLS(y2, X2).fit()\n",
    "\n",
    "# Print the summary of the regression model\n",
    "print(\"Model 2: Price vs Ratings\")\n",
    "print(model2.summary())"
   ]
  },
  {
   "cell_type": "markdown",
   "id": "c50351c1",
   "metadata": {},
   "source": [
    "### Insights from the Regression Analysis for Elasticity\n",
    "\n",
    "In this regression analysis, we are modeling the relationship between `log_price` (dependent variable) and `log_ratings` (independent variable). The goal is to understand how changes in product ratings affect its price in percentage terms.\n",
    "\n",
    "### 1. **Understanding the Coefficients:**\n",
    "   - **`log_ratings` Coefficient:** The coefficient is 0.4372. In a log-log model, this coefficient represents elasticity. This means that a 1% increase in the ratings (`log_ratings`) is associated with an approximate 0.4372% increase in the price (`log_price`). \n",
    "   - However, the p-value (0.303) for `log_ratings` is greater than 0.05, indicating that this relationship is not statistically significant.\n",
    "\n",
    "### 2. **Statistical Significance:**\n",
    "   - The p-value for `log_ratings` (0.303) suggests that we do not have enough evidence to conclude that the ratings significantly impact the price.\n",
    "   - The overall model's F-statistic p-value (0.303) further supports this, indicating that the model as a whole is not statistically significant.\n",
    "   - The R-squared value (0.030) implies that only 3% of the variability in the log of the price is explained by the ratings, which is quite low.\n",
    "\n",
    "### 3. **Elasticity Interpretation:**\n",
    "   - **Price Elasticity with Respect to Ratings:** The coefficient of `log_ratings` (0.4372) suggests a positive elasticity, meaning an increase in ratings is associated with an increase in price. However, since the p-value is not significant, this relationship is weak and not reliable based on the data.\n",
    "   - **Confidence Intervals:** The 95% confidence interval for the `log_ratings` coefficient ranges from -0.412 to 1.287, which includes zero. This wide interval indicates a great deal of uncertainty around the estimated effect, which aligns with the high p-value.\n",
    "\n",
    "### 4. **Model Fit and Diagnostics:**\n",
    "   - **R-squared (0.030) and Adjusted R-squared (0.003):** These values indicate that the model has very little explanatory power. It explains only 3% of the variance in the log of the price.\n",
    "   - **Residual Analysis:** The relatively low R-squared suggests that other factors not included in this model might explain the variations in price.\n",
    "\n",
    "### 5. **Conclusion:**\n",
    "   - **Elasticity:** The estimated elasticity between price and ratings is positive (0.4372), but the lack of statistical significance (high p-value) means that this finding is not reliable.\n",
    "   - **Model Limitations:** The low R-squared and non-significant coefficients suggest that ratings alone are not a strong predictor of price. Other factors, possibly omitted from this model, could have a more significant impact on the price.\n",
    "\n",
    "### Recommendations:\n",
    "   - **Include Additional Variables:** To improve the model's explanatory power, consider including other variables that may affect the price, such as product category, brand reputation, or market demand.\n",
    "   - **Explore Non-Linear Models:** Since the relationship between price and ratings might not be linear, experimenting with different model specifications might reveal more significant relationships."
   ]
  },
  {
   "cell_type": "code",
   "execution_count": 50,
   "id": "06bedc38",
   "metadata": {},
   "outputs": [
    {
     "data": {
      "text/plain": [
       "<bound method WebDriver.close of <selenium.webdriver.chrome.webdriver.WebDriver (session=\"3a3a988cad61278a13b98070c061176e\")>>"
      ]
     },
     "execution_count": 50,
     "metadata": {},
     "output_type": "execute_result"
    }
   ],
   "source": [
    "driver.close"
   ]
  }
 ],
 "metadata": {
  "kernelspec": {
   "display_name": "Python 3 (ipykernel)",
   "language": "python",
   "name": "python3"
  },
  "language_info": {
   "codemirror_mode": {
    "name": "ipython",
    "version": 3
   },
   "file_extension": ".py",
   "mimetype": "text/x-python",
   "name": "python",
   "nbconvert_exporter": "python",
   "pygments_lexer": "ipython3",
   "version": "3.9.13"
  }
 },
 "nbformat": 4,
 "nbformat_minor": 5
}
